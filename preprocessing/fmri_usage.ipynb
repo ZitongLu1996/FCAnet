{
 "cells": [
  {
   "attachments": {},
   "cell_type": "markdown",
   "metadata": {},
   "source": [
    "# THINGS-fMRI usage notes (Modified Version)\n",
    "\n",
    "### THINGS-fMRI1 b-value extraction notebook\n",
    "\n",
    "Part of codes are grabbing from the THINGS-data repository: [link](https://github.com/ViCCo-Group/THINGS-data/blob/main/MRI/notebooks/fmri_usage.ipynb)"
   ]
  },
  {
   "attachments": {},
   "cell_type": "markdown",
   "metadata": {},
   "source": [
    "For a detailed description of the data and the procedures that generated it, see [the THINGS-data preprint](https://doi.org/10.1101/2022.07.22.501123)."
   ]
  },
  {
   "cell_type": "code",
   "execution_count": 2,
   "metadata": {},
   "outputs": [],
   "source": [
    "from os.path import join as pjoin\n",
    "import glob\n",
    "import numpy as np\n",
    "import pandas as pd\n",
    "from nilearn.masking import apply_mask, unmask\n",
    "from nilearn.plotting import plot_epi, plot_stat_map\n",
    "from nilearn.image import load_img, index_img, iter_img\n",
    "import matplotlib.pyplot as plt\n",
    "import cortex"
   ]
  },
  {
   "cell_type": "code",
   "execution_count": 3,
   "metadata": {},
   "outputs": [],
   "source": [
    "# Assumes you've downloaded the THINGS-fMRI data to this directory\n",
    "basedir = '/mnt/c/Users/Wayne/Desktop/'"
   ]
  },
  {
   "attachments": {},
   "cell_type": "markdown",
   "metadata": {},
   "source": [
    "## Single trial responses"
   ]
  },
  {
   "attachments": {},
   "cell_type": "markdown",
   "metadata": {},
   "source": [
    "The single trial responses are arguably the easiest way to analyze the THINGS-fMRI data. They contains the magnitude of the fMRI response to each stimulus in each voxel with a single number. The single trial responses are provided in two formats: a) In table format, b) in volumetric format."
   ]
  },
  {
   "attachments": {},
   "cell_type": "markdown",
   "metadata": {},
   "source": [
    "### Table format"
   ]
  },
  {
   "attachments": {},
   "cell_type": "markdown",
   "metadata": {},
   "source": [
    "Besides the fMRI response data, the table format contains metadata about each voxel (such as noise ceilings, pRF parameters, regions of interest) and about the stimulus (such as image file name, trial type, run and session). "
   ]
  },
  {
   "cell_type": "code",
   "execution_count": 4,
   "metadata": {},
   "outputs": [],
   "source": [
    "# Assumes you downloaded the single trial responses in table format to this directory \n",
    "betas_csv_dir = pjoin(basedir, 'betas_csv')\n",
    "\n",
    "# and that you're interested in the data for the first subject\n",
    "sub = '01'"
   ]
  },
  {
   "attachments": {},
   "cell_type": "markdown",
   "metadata": {},
   "source": [
    "The `sub-{subject}_ResponseData.h5` files contain the actual single trial responses. Rows are voxels, columns are trials."
   ]
  },
  {
   "cell_type": "code",
   "execution_count": 5,
   "metadata": {},
   "outputs": [
    {
     "name": "stderr",
     "output_type": "stream",
     "text": [
      "/tmp/ipykernel_10011/379850062.py:2: FutureWarning: In a future version, the Index constructor will not infer numeric dtypes when passed object-dtype sequences (matching Series behavior)\n",
      "  responses = pd.read_hdf(data_file)  # this may take a minute\n"
     ]
    },
    {
     "name": "stdout",
     "output_type": "stream",
     "text": [
      "Single trial response data\n"
     ]
    },
    {
     "data": {
      "text/html": [
       "<div>\n",
       "<style scoped>\n",
       "    .dataframe tbody tr th:only-of-type {\n",
       "        vertical-align: middle;\n",
       "    }\n",
       "\n",
       "    .dataframe tbody tr th {\n",
       "        vertical-align: top;\n",
       "    }\n",
       "\n",
       "    .dataframe thead th {\n",
       "        text-align: right;\n",
       "    }\n",
       "</style>\n",
       "<table border=\"1\" class=\"dataframe\">\n",
       "  <thead>\n",
       "    <tr style=\"text-align: right;\">\n",
       "      <th></th>\n",
       "      <th>voxel_id</th>\n",
       "      <th>0</th>\n",
       "      <th>1</th>\n",
       "      <th>2</th>\n",
       "      <th>3</th>\n",
       "      <th>4</th>\n",
       "      <th>5</th>\n",
       "      <th>6</th>\n",
       "      <th>7</th>\n",
       "      <th>8</th>\n",
       "      <th>...</th>\n",
       "      <th>9830</th>\n",
       "      <th>9831</th>\n",
       "      <th>9832</th>\n",
       "      <th>9833</th>\n",
       "      <th>9834</th>\n",
       "      <th>9835</th>\n",
       "      <th>9836</th>\n",
       "      <th>9837</th>\n",
       "      <th>9838</th>\n",
       "      <th>9839</th>\n",
       "    </tr>\n",
       "  </thead>\n",
       "  <tbody>\n",
       "    <tr>\n",
       "      <th>0</th>\n",
       "      <td>0</td>\n",
       "      <td>-0.089022</td>\n",
       "      <td>0.041923</td>\n",
       "      <td>0.169130</td>\n",
       "      <td>-0.075151</td>\n",
       "      <td>0.015963</td>\n",
       "      <td>-0.010098</td>\n",
       "      <td>-0.012468</td>\n",
       "      <td>0.084902</td>\n",
       "      <td>0.091878</td>\n",
       "      <td>...</td>\n",
       "      <td>0.024178</td>\n",
       "      <td>-0.029775</td>\n",
       "      <td>0.099759</td>\n",
       "      <td>0.006796</td>\n",
       "      <td>-0.044169</td>\n",
       "      <td>0.018878</td>\n",
       "      <td>-0.057514</td>\n",
       "      <td>0.055157</td>\n",
       "      <td>-0.036201</td>\n",
       "      <td>-0.068705</td>\n",
       "    </tr>\n",
       "    <tr>\n",
       "      <th>1</th>\n",
       "      <td>1</td>\n",
       "      <td>-0.062508</td>\n",
       "      <td>-0.037973</td>\n",
       "      <td>-0.009769</td>\n",
       "      <td>0.082478</td>\n",
       "      <td>0.056631</td>\n",
       "      <td>-0.015929</td>\n",
       "      <td>-0.027017</td>\n",
       "      <td>0.054912</td>\n",
       "      <td>0.017544</td>\n",
       "      <td>...</td>\n",
       "      <td>-0.071025</td>\n",
       "      <td>0.035286</td>\n",
       "      <td>0.066276</td>\n",
       "      <td>-0.092530</td>\n",
       "      <td>-0.074624</td>\n",
       "      <td>0.006528</td>\n",
       "      <td>0.005477</td>\n",
       "      <td>0.002302</td>\n",
       "      <td>0.074685</td>\n",
       "      <td>-0.096532</td>\n",
       "    </tr>\n",
       "    <tr>\n",
       "      <th>2</th>\n",
       "      <td>2</td>\n",
       "      <td>-0.070807</td>\n",
       "      <td>-0.019326</td>\n",
       "      <td>-0.019546</td>\n",
       "      <td>-0.060038</td>\n",
       "      <td>-0.024878</td>\n",
       "      <td>0.052750</td>\n",
       "      <td>0.163108</td>\n",
       "      <td>0.037861</td>\n",
       "      <td>-0.073247</td>\n",
       "      <td>...</td>\n",
       "      <td>0.045679</td>\n",
       "      <td>0.075059</td>\n",
       "      <td>-0.020386</td>\n",
       "      <td>-0.034966</td>\n",
       "      <td>-0.027783</td>\n",
       "      <td>0.011068</td>\n",
       "      <td>-0.025219</td>\n",
       "      <td>0.012350</td>\n",
       "      <td>0.029529</td>\n",
       "      <td>0.006157</td>\n",
       "    </tr>\n",
       "    <tr>\n",
       "      <th>3</th>\n",
       "      <td>3</td>\n",
       "      <td>0.006218</td>\n",
       "      <td>0.016355</td>\n",
       "      <td>-0.075845</td>\n",
       "      <td>-0.109495</td>\n",
       "      <td>-0.007062</td>\n",
       "      <td>0.144785</td>\n",
       "      <td>0.086463</td>\n",
       "      <td>-0.047257</td>\n",
       "      <td>0.011348</td>\n",
       "      <td>...</td>\n",
       "      <td>-0.050225</td>\n",
       "      <td>0.016627</td>\n",
       "      <td>0.083943</td>\n",
       "      <td>-0.038645</td>\n",
       "      <td>-0.014257</td>\n",
       "      <td>0.050435</td>\n",
       "      <td>0.032841</td>\n",
       "      <td>-0.036794</td>\n",
       "      <td>-0.000256</td>\n",
       "      <td>0.033482</td>\n",
       "    </tr>\n",
       "    <tr>\n",
       "      <th>4</th>\n",
       "      <td>4</td>\n",
       "      <td>-0.014344</td>\n",
       "      <td>-0.029792</td>\n",
       "      <td>0.136358</td>\n",
       "      <td>-0.118176</td>\n",
       "      <td>0.007145</td>\n",
       "      <td>0.036102</td>\n",
       "      <td>0.036816</td>\n",
       "      <td>0.015313</td>\n",
       "      <td>0.035015</td>\n",
       "      <td>...</td>\n",
       "      <td>-0.104036</td>\n",
       "      <td>-0.020143</td>\n",
       "      <td>0.063932</td>\n",
       "      <td>-0.080900</td>\n",
       "      <td>0.010575</td>\n",
       "      <td>-0.015148</td>\n",
       "      <td>-0.085487</td>\n",
       "      <td>0.118670</td>\n",
       "      <td>0.073392</td>\n",
       "      <td>-0.014972</td>\n",
       "    </tr>\n",
       "  </tbody>\n",
       "</table>\n",
       "<p>5 rows × 9841 columns</p>\n",
       "</div>"
      ],
      "text/plain": [
       "   voxel_id         0         1         2         3         4         5  \\\n",
       "0         0 -0.089022  0.041923  0.169130 -0.075151  0.015963 -0.010098   \n",
       "1         1 -0.062508 -0.037973 -0.009769  0.082478  0.056631 -0.015929   \n",
       "2         2 -0.070807 -0.019326 -0.019546 -0.060038 -0.024878  0.052750   \n",
       "3         3  0.006218  0.016355 -0.075845 -0.109495 -0.007062  0.144785   \n",
       "4         4 -0.014344 -0.029792  0.136358 -0.118176  0.007145  0.036102   \n",
       "\n",
       "          6         7         8  ...      9830      9831      9832      9833  \\\n",
       "0 -0.012468  0.084902  0.091878  ...  0.024178 -0.029775  0.099759  0.006796   \n",
       "1 -0.027017  0.054912  0.017544  ... -0.071025  0.035286  0.066276 -0.092530   \n",
       "2  0.163108  0.037861 -0.073247  ...  0.045679  0.075059 -0.020386 -0.034966   \n",
       "3  0.086463 -0.047257  0.011348  ... -0.050225  0.016627  0.083943 -0.038645   \n",
       "4  0.036816  0.015313  0.035015  ... -0.104036 -0.020143  0.063932 -0.080900   \n",
       "\n",
       "       9834      9835      9836      9837      9838      9839  \n",
       "0 -0.044169  0.018878 -0.057514  0.055157 -0.036201 -0.068705  \n",
       "1 -0.074624  0.006528  0.005477  0.002302  0.074685 -0.096532  \n",
       "2 -0.027783  0.011068 -0.025219  0.012350  0.029529  0.006157  \n",
       "3 -0.014257  0.050435  0.032841 -0.036794 -0.000256  0.033482  \n",
       "4  0.010575 -0.015148 -0.085487  0.118670  0.073392 -0.014972  \n",
       "\n",
       "[5 rows x 9841 columns]"
      ]
     },
     "execution_count": 5,
     "metadata": {},
     "output_type": "execute_result"
    }
   ],
   "source": [
    "data_file = pjoin(betas_csv_dir, f'sub-{sub}_ResponseData.h5')\n",
    "responses = pd.read_hdf(data_file)  # this may take a minute\n",
    "print('Single trial response data')\n",
    "responses.head()"
   ]
  },
  {
   "attachments": {},
   "cell_type": "markdown",
   "metadata": {},
   "source": [
    "The `sub-{subject}_VoxelMetadata.csv` files contain additional information about each voxel, such as membership to ROIs, reliability measures, and noise ceilings."
   ]
  },
  {
   "cell_type": "code",
   "execution_count": 6,
   "metadata": {},
   "outputs": [
    {
     "data": {
      "text/html": [
       "<div>\n",
       "<style scoped>\n",
       "    .dataframe tbody tr th:only-of-type {\n",
       "        vertical-align: middle;\n",
       "    }\n",
       "\n",
       "    .dataframe tbody tr th {\n",
       "        vertical-align: top;\n",
       "    }\n",
       "\n",
       "    .dataframe thead th {\n",
       "        text-align: right;\n",
       "    }\n",
       "</style>\n",
       "<table border=\"1\" class=\"dataframe\">\n",
       "  <thead>\n",
       "    <tr style=\"text-align: right;\">\n",
       "      <th></th>\n",
       "      <th>voxel_id</th>\n",
       "      <th>subject_id</th>\n",
       "      <th>voxel_x</th>\n",
       "      <th>voxel_y</th>\n",
       "      <th>voxel_z</th>\n",
       "      <th>nc_singletrial</th>\n",
       "      <th>nc_testset</th>\n",
       "      <th>splithalf_uncorrected</th>\n",
       "      <th>splithalf_corrected</th>\n",
       "      <th>prf-eccentricity</th>\n",
       "      <th>...</th>\n",
       "      <th>lSTS</th>\n",
       "      <th>rSTS</th>\n",
       "      <th>lPPA</th>\n",
       "      <th>rPPA</th>\n",
       "      <th>lRSC</th>\n",
       "      <th>rRSC</th>\n",
       "      <th>lTOS</th>\n",
       "      <th>rTOS</th>\n",
       "      <th>lLOC</th>\n",
       "      <th>rLOC</th>\n",
       "    </tr>\n",
       "  </thead>\n",
       "  <tbody>\n",
       "    <tr>\n",
       "      <th>0</th>\n",
       "      <td>0</td>\n",
       "      <td>1</td>\n",
       "      <td>1</td>\n",
       "      <td>39</td>\n",
       "      <td>33</td>\n",
       "      <td>0.000000</td>\n",
       "      <td>0.000000</td>\n",
       "      <td>-0.030530</td>\n",
       "      <td>-0.062982</td>\n",
       "      <td>0.000000</td>\n",
       "      <td>...</td>\n",
       "      <td>0</td>\n",
       "      <td>0</td>\n",
       "      <td>0</td>\n",
       "      <td>0</td>\n",
       "      <td>0</td>\n",
       "      <td>0</td>\n",
       "      <td>0</td>\n",
       "      <td>0</td>\n",
       "      <td>0</td>\n",
       "      <td>0</td>\n",
       "    </tr>\n",
       "    <tr>\n",
       "      <th>1</th>\n",
       "      <td>1</td>\n",
       "      <td>1</td>\n",
       "      <td>1</td>\n",
       "      <td>39</td>\n",
       "      <td>34</td>\n",
       "      <td>1.102513</td>\n",
       "      <td>11.799193</td>\n",
       "      <td>0.070108</td>\n",
       "      <td>0.131029</td>\n",
       "      <td>4.941197</td>\n",
       "      <td>...</td>\n",
       "      <td>0</td>\n",
       "      <td>0</td>\n",
       "      <td>0</td>\n",
       "      <td>0</td>\n",
       "      <td>0</td>\n",
       "      <td>0</td>\n",
       "      <td>0</td>\n",
       "      <td>0</td>\n",
       "      <td>0</td>\n",
       "      <td>0</td>\n",
       "    </tr>\n",
       "    <tr>\n",
       "      <th>2</th>\n",
       "      <td>2</td>\n",
       "      <td>1</td>\n",
       "      <td>1</td>\n",
       "      <td>39</td>\n",
       "      <td>35</td>\n",
       "      <td>2.134454</td>\n",
       "      <td>20.743164</td>\n",
       "      <td>0.121099</td>\n",
       "      <td>0.216036</td>\n",
       "      <td>11.064742</td>\n",
       "      <td>...</td>\n",
       "      <td>0</td>\n",
       "      <td>0</td>\n",
       "      <td>0</td>\n",
       "      <td>0</td>\n",
       "      <td>0</td>\n",
       "      <td>0</td>\n",
       "      <td>0</td>\n",
       "      <td>0</td>\n",
       "      <td>0</td>\n",
       "      <td>0</td>\n",
       "    </tr>\n",
       "    <tr>\n",
       "      <th>3</th>\n",
       "      <td>3</td>\n",
       "      <td>1</td>\n",
       "      <td>1</td>\n",
       "      <td>39</td>\n",
       "      <td>36</td>\n",
       "      <td>0.000000</td>\n",
       "      <td>0.000000</td>\n",
       "      <td>-0.040901</td>\n",
       "      <td>-0.085290</td>\n",
       "      <td>0.000000</td>\n",
       "      <td>...</td>\n",
       "      <td>0</td>\n",
       "      <td>0</td>\n",
       "      <td>0</td>\n",
       "      <td>0</td>\n",
       "      <td>0</td>\n",
       "      <td>0</td>\n",
       "      <td>0</td>\n",
       "      <td>0</td>\n",
       "      <td>0</td>\n",
       "      <td>0</td>\n",
       "    </tr>\n",
       "    <tr>\n",
       "      <th>4</th>\n",
       "      <td>4</td>\n",
       "      <td>1</td>\n",
       "      <td>1</td>\n",
       "      <td>40</td>\n",
       "      <td>33</td>\n",
       "      <td>0.446367</td>\n",
       "      <td>5.105714</td>\n",
       "      <td>0.034924</td>\n",
       "      <td>0.067491</td>\n",
       "      <td>0.000000</td>\n",
       "      <td>...</td>\n",
       "      <td>0</td>\n",
       "      <td>0</td>\n",
       "      <td>0</td>\n",
       "      <td>0</td>\n",
       "      <td>0</td>\n",
       "      <td>0</td>\n",
       "      <td>0</td>\n",
       "      <td>0</td>\n",
       "      <td>0</td>\n",
       "      <td>0</td>\n",
       "    </tr>\n",
       "  </tbody>\n",
       "</table>\n",
       "<p>5 rows × 41 columns</p>\n",
       "</div>"
      ],
      "text/plain": [
       "   voxel_id  subject_id  voxel_x  voxel_y  voxel_z  nc_singletrial  \\\n",
       "0         0           1        1       39       33        0.000000   \n",
       "1         1           1        1       39       34        1.102513   \n",
       "2         2           1        1       39       35        2.134454   \n",
       "3         3           1        1       39       36        0.000000   \n",
       "4         4           1        1       40       33        0.446367   \n",
       "\n",
       "   nc_testset  splithalf_uncorrected  splithalf_corrected  prf-eccentricity  \\\n",
       "0    0.000000              -0.030530            -0.062982          0.000000   \n",
       "1   11.799193               0.070108             0.131029          4.941197   \n",
       "2   20.743164               0.121099             0.216036         11.064742   \n",
       "3    0.000000              -0.040901            -0.085290          0.000000   \n",
       "4    5.105714               0.034924             0.067491          0.000000   \n",
       "\n",
       "   ...  lSTS  rSTS  lPPA  rPPA  lRSC  rRSC  lTOS  rTOS  lLOC  rLOC  \n",
       "0  ...     0     0     0     0     0     0     0     0     0     0  \n",
       "1  ...     0     0     0     0     0     0     0     0     0     0  \n",
       "2  ...     0     0     0     0     0     0     0     0     0     0  \n",
       "3  ...     0     0     0     0     0     0     0     0     0     0  \n",
       "4  ...     0     0     0     0     0     0     0     0     0     0  \n",
       "\n",
       "[5 rows x 41 columns]"
      ]
     },
     "execution_count": 6,
     "metadata": {},
     "output_type": "execute_result"
    }
   ],
   "source": [
    "vox_f = pjoin(betas_csv_dir, f'sub-{sub}_VoxelMetadata.csv')\n",
    "voxdata = pd.read_csv(vox_f)\n",
    "voxdata.head()"
   ]
  },
  {
   "attachments": {},
   "cell_type": "markdown",
   "metadata": {},
   "source": [
    "### Get Voxel IDs from the table"
   ]
  },
  {
   "cell_type": "code",
   "execution_count": 67,
   "metadata": {},
   "outputs": [],
   "source": [
    "# get voxel_id of V1\n",
    "def get_ROI_voxel_id(voxdata, region):\n",
    "    return np.array(voxdata[voxdata[region] == 1][\"voxel_id\"].values)\n",
    "    \n",
    "v1_voxel_id = get_ROI_voxel_id(voxdata, \"V1\")\n",
    "v2_voxel_id = get_ROI_voxel_id(voxdata, \"V2\")\n",
    "hv4_voxel_id = get_ROI_voxel_id(voxdata, \"hV4\")\n",
    "it_l_voxel_id = get_ROI_voxel_id(voxdata, \"lLOC\")\n",
    "it_r_voxel_id = get_ROI_voxel_id(voxdata, \"rLOC\")\n",
    "\n",
    "it_voxel_id = np.concatenate((it_l_voxel_id, it_r_voxel_id))"
   ]
  },
  {
   "attachments": {},
   "cell_type": "markdown",
   "metadata": {},
   "source": [
    "### Get Voxel Betas values from the h5 file"
   ]
  },
  {
   "cell_type": "code",
   "execution_count": 68,
   "metadata": {},
   "outputs": [],
   "source": [
    "responses_v1 = responses[responses[\"voxel_id\"].isin(v1_voxel_id)]\n",
    "responses_v2 = responses[responses[\"voxel_id\"].isin(v2_voxel_id)]\n",
    "responses_hv4 = responses[responses[\"voxel_id\"].isin(hv4_voxel_id)]\n",
    "responses_it = responses[responses[\"voxel_id\"].isin(it_voxel_id)]\n"
   ]
  },
  {
   "cell_type": "code",
   "execution_count": 8,
   "metadata": {},
   "outputs": [
    {
     "name": "stdout",
     "output_type": "stream",
     "text": [
      "available voxel metadata:\n",
      " ['voxel_id', 'subject_id', 'voxel_x', 'voxel_y', 'voxel_z', 'nc_singletrial', 'nc_testset', 'splithalf_uncorrected', 'splithalf_corrected', 'prf-eccentricity', 'prf-polarangle', 'prf-rsquared', 'prf-size', 'V1', 'V2', 'V3', 'hV4', 'VO1', 'VO2', 'LO1 (prf)', 'LO2 (prf)', 'TO1', 'TO2', 'V3b', 'V3a', 'lEBA', 'rEBA', 'lFFA', 'rFFA', 'lOFA', 'rOFA', 'lSTS', 'rSTS', 'lPPA', 'rPPA', 'lRSC', 'rRSC', 'lTOS', 'rTOS', 'lLOC', 'rLOC']\n"
     ]
    }
   ],
   "source": [
    "print('available voxel metadata:\\n', voxdata.columns.to_list())"
   ]
  },
  {
   "attachments": {},
   "cell_type": "markdown",
   "metadata": {},
   "source": [
    "The voxel indices can be used to reconstruct a volume, e.g. for visualizing results obtained from the single trial responses. Alternatively, the brain mask can be used for that purpose (see below). Membership of each voxel to the available ROIs is dummy coded, e.g. in `voxdata[\"V1\"]` or `voxdata[\"rFFA\"]`. The population receptive field parameters are encoded in the following columns: `prf-eccentricity`, `prf-polarangle`, `prf-size`, and `prf-rsquared`. Finally, different reliability estimates are available in the columns: `nc_testset`, `nc_singletrial`, `splithalf_uncorrected`, and `splithalf_corrected`."
   ]
  },
  {
   "attachments": {},
   "cell_type": "markdown",
   "metadata": {},
   "source": [
    "The `sub-{subject}_StimulusMetadata.csv` files contain information about the file name of the image shown in each trial, which run and session a given trial occured in, and the trial_type. "
   ]
  },
  {
   "cell_type": "code",
   "execution_count": 54,
   "metadata": {},
   "outputs": [
    {
     "data": {
      "text/html": [
       "<div>\n",
       "<style scoped>\n",
       "    .dataframe tbody tr th:only-of-type {\n",
       "        vertical-align: middle;\n",
       "    }\n",
       "\n",
       "    .dataframe tbody tr th {\n",
       "        vertical-align: top;\n",
       "    }\n",
       "\n",
       "    .dataframe thead th {\n",
       "        text-align: right;\n",
       "    }\n",
       "</style>\n",
       "<table border=\"1\" class=\"dataframe\">\n",
       "  <thead>\n",
       "    <tr style=\"text-align: right;\">\n",
       "      <th></th>\n",
       "      <th>trial_type</th>\n",
       "      <th>session</th>\n",
       "      <th>run</th>\n",
       "      <th>subject_id</th>\n",
       "      <th>trial_id</th>\n",
       "      <th>stimulus</th>\n",
       "    </tr>\n",
       "  </thead>\n",
       "  <tbody>\n",
       "    <tr>\n",
       "      <th>0</th>\n",
       "      <td>train</td>\n",
       "      <td>1</td>\n",
       "      <td>1</td>\n",
       "      <td>1</td>\n",
       "      <td>0</td>\n",
       "      <td>dog_12s.jpg</td>\n",
       "    </tr>\n",
       "    <tr>\n",
       "      <th>1</th>\n",
       "      <td>train</td>\n",
       "      <td>1</td>\n",
       "      <td>1</td>\n",
       "      <td>1</td>\n",
       "      <td>1</td>\n",
       "      <td>mango_12s.jpg</td>\n",
       "    </tr>\n",
       "    <tr>\n",
       "      <th>2</th>\n",
       "      <td>train</td>\n",
       "      <td>1</td>\n",
       "      <td>1</td>\n",
       "      <td>1</td>\n",
       "      <td>2</td>\n",
       "      <td>spatula_12s.jpg</td>\n",
       "    </tr>\n",
       "    <tr>\n",
       "      <th>3</th>\n",
       "      <td>test</td>\n",
       "      <td>1</td>\n",
       "      <td>1</td>\n",
       "      <td>1</td>\n",
       "      <td>3</td>\n",
       "      <td>candelabra_14s.jpg</td>\n",
       "    </tr>\n",
       "    <tr>\n",
       "      <th>4</th>\n",
       "      <td>train</td>\n",
       "      <td>1</td>\n",
       "      <td>1</td>\n",
       "      <td>1</td>\n",
       "      <td>4</td>\n",
       "      <td>panda_12s.jpg</td>\n",
       "    </tr>\n",
       "  </tbody>\n",
       "</table>\n",
       "</div>"
      ],
      "text/plain": [
       "  trial_type  session  run  subject_id  trial_id            stimulus\n",
       "0      train        1    1           1         0         dog_12s.jpg\n",
       "1      train        1    1           1         1       mango_12s.jpg\n",
       "2      train        1    1           1         2     spatula_12s.jpg\n",
       "3       test        1    1           1         3  candelabra_14s.jpg\n",
       "4      train        1    1           1         4       panda_12s.jpg"
      ]
     },
     "execution_count": 54,
     "metadata": {},
     "output_type": "execute_result"
    }
   ],
   "source": [
    "# Stimulus metadata\n",
    "stim_f = pjoin(betas_csv_dir, f'sub-{sub}_StimulusMetadata.csv')\n",
    "stimdata = pd.read_csv(stim_f)\n",
    "stimdata.head()"
   ]
  },
  {
   "attachments": {},
   "cell_type": "markdown",
   "metadata": {},
   "source": [
    "> 🚨 **Trial types**\n",
    ">\n",
    "> The THINGS-fMRI experiment presented participants with three different trial types:\n",
    "> - `train`: Participants passively viewed an object image.\n",
    "> - `test`: Same as train, but these trials belonged to a set of 200 images which were presented in each session. It's main purpose is to allow for estimating the reliability of the single trial responses in a given voxel.\n",
    "> - `catch`: Participants saw a non-object image and responded with a button press. This was included to ensure participants were engaged throughout the experiment.\n",
    ">\n",
    "> Note: Catch trials are excluded from the single trial responses in table format as they are likely not of interest for most applications. However, catch trials are included in the volumetric format in order to make it possible to account for them in analyses."
   ]
  },
  {
   "attachments": {},
   "cell_type": "markdown",
   "metadata": {},
   "source": [
    "### Get picture trials"
   ]
  },
  {
   "cell_type": "code",
   "execution_count": 63,
   "metadata": {},
   "outputs": [
    {
     "name": "stdout",
     "output_type": "stream",
     "text": [
      "     trial_type  session  run  subject_id  trial_id            stimulus  \\\n",
      "0         train        1    1           1         0         dog_12s.jpg   \n",
      "1         train        1    1           1         1       mango_12s.jpg   \n",
      "2         train        1    1           1         2     spatula_12s.jpg   \n",
      "3          test        1    1           1         3  candelabra_14s.jpg   \n",
      "4         train        1    1           1         4       panda_12s.jpg   \n",
      "...         ...      ...  ...         ...       ...                 ...   \n",
      "9835      train       12   10           1      9835       sword_09s.jpg   \n",
      "9836      train       12   10           1      9836      toilet_09s.jpg   \n",
      "9837       test       12   10           1      9837     earring_16n.jpg   \n",
      "9838       test       12   10           1      9838       brace_14s.jpg   \n",
      "9839      train       12   10           1      9839   cockroach_09s.jpg   \n",
      "\n",
      "      categories  \n",
      "0            dog  \n",
      "1          mango  \n",
      "2        spatula  \n",
      "3     candelabra  \n",
      "4          panda  \n",
      "...          ...  \n",
      "9835       sword  \n",
      "9836      toilet  \n",
      "9837     earring  \n",
      "9838       brace  \n",
      "9839   cockroach  \n",
      "\n",
      "[9840 rows x 7 columns]\n"
     ]
    }
   ],
   "source": [
    "# get all characters before last 8 characters\n",
    "def get_stimulus_name(stimdata):\n",
    "    return np.array([stim[:-8] for stim in stimdata[\"stimulus\"].values])\n",
    "categories = get_stimulus_name(stimdata)\n",
    "# concatenate the categories into stimdata as a new column\n",
    "stimdata[\"categories\"] = categories\n",
    "print(stimdata)\n",
    "# get unique categories from stimdata[\"categories\"]\n",
    "categories = stimdata[\"categories\"].unique()\n",
    "# get all the trail_id that has the same category\n",
    "def get_stimulus_id(stimdata, category):\n",
    "    return np.array(stimdata[stimdata[\"categories\"] == category][\"trial_id\"].values)\n",
    "\n",
    "# get all the trial_id that has the same category and put them into a dictionary\n",
    "stimulus_id_dict = {}\n",
    "for category in categories:\n",
    "    stimulus_id_dict[category] = get_stimulus_id(stimdata, category)\n"
   ]
  },
  {
   "attachments": {},
   "cell_type": "markdown",
   "metadata": {},
   "source": [
    "### Do trails and voxels average\n",
    "\n",
    "In the original H5 data file, the row is voxel and the column is trials."
   ]
  },
  {
   "cell_type": "code",
   "execution_count": 72,
   "metadata": {},
   "outputs": [
    {
     "name": "stdout",
     "output_type": "stream",
     "text": [
      "          dog     mango   spatula  candelabra     panda  pacifier  crayfish  \\\n",
      "V1   0.008226  0.017480 -0.000349    0.016366  0.003010  0.011333  0.002690   \n",
      "V2   0.012045  0.020776  0.009508    0.020023  0.006212  0.017008  0.005667   \n",
      "hV4  0.022013  0.025496  0.015969    0.027363  0.013007  0.031143  0.020203   \n",
      "IT   0.013272  0.016870  0.013224    0.015172  0.009315  0.026026  0.008108   \n",
      "\n",
      "        shirt  chicken_wire       cow  ...   lettuce    diaper   granite  \\\n",
      "V1   0.004290      0.016990  0.008359  ...  0.021588  0.015891  0.022580   \n",
      "V2   0.008726      0.023003  0.011581  ...  0.022974  0.018392  0.021601   \n",
      "hV4  0.015112      0.024035  0.022274  ...  0.027887  0.030999  0.019290   \n",
      "IT   0.004882      0.010760  0.009132  ...  0.006865  0.026962  0.004102   \n",
      "\n",
      "      pom-pom  windowsill   tadpole      leek     sheep    coffin  \\\n",
      "V1   0.014479    0.009649  0.008141  0.007890  0.007142  0.005645   \n",
      "V2   0.023019    0.015574  0.013099  0.018520  0.007567  0.011964   \n",
      "hV4  0.027569    0.018959  0.024774  0.029170  0.011098  0.024399   \n",
      "IT   0.011923    0.009468  0.024920  0.020976  0.005829  0.019176   \n",
      "\n",
      "     praying_mantis  \n",
      "V1         0.005048  \n",
      "V2         0.008507  \n",
      "hV4        0.017497  \n",
      "IT         0.018271  \n",
      "\n",
      "[4 rows x 720 columns]\n"
     ]
    }
   ],
   "source": [
    "\n",
    "ROI = [\"V1\", \"V2\", \"hV4\", \"IT\"]\n",
    "\n",
    "### use responses data to get the mean response for each category\n",
    "def get_mean_betas(responses, stimulus_id_dict, categories):\n",
    "    # average the voxels\n",
    "    responses_average = np.mean(responses, axis=0)\n",
    "    # create a np array that has same shape as how many unique categories we have\n",
    "    betas_categories = np.zeros((len(categories),1))\n",
    "    for i in range(len(categories)):\n",
    "        # get the trial_id for each category\n",
    "        stimulus_id = stimulus_id_dict[categories[i]]\n",
    "        betas_categories[i] = responses_average[stimulus_id].mean()\n",
    "    return betas_categories\n",
    "\n",
    "v1_mean_betas = get_mean_betas(responses_v1, stimulus_id_dict, categories)\n",
    "v2_mean_betas = get_mean_betas(responses_v2, stimulus_id_dict, categories)\n",
    "hv4_mean_betas = get_mean_betas(responses_hv4, stimulus_id_dict, categories)\n",
    "it_mean_betas = get_mean_betas(responses_it, stimulus_id_dict, categories)\n",
    "\n",
    "# concatenate the mean betas for each ROI into a pandas dataframe, row is ROI, column is category\n",
    "final_mean_betas = pd.DataFrame(np.concatenate((v1_mean_betas, v2_mean_betas, hv4_mean_betas, it_mean_betas), axis=1).T, index=ROI, columns=categories)\n",
    "print(final_mean_betas)"
   ]
  },
  {
   "attachments": {},
   "cell_type": "markdown",
   "metadata": {},
   "source": [
    "### Locate the images"
   ]
  },
  {
   "cell_type": "code",
   "execution_count": null,
   "metadata": {},
   "outputs": [],
   "source": [
    "pic_path = \"/mnt/c/Users/Wayne/Desktop/THINGS_pics/THINGS/Images/all\"\n",
    "\n",
    "# if the folder name is matched with categories, copy the folder to new folder \"FCAnet\" at Desktop\n",
    "import os\n",
    "import shutil\n",
    "for category in categories:\n",
    "    if os.path.exists(os.path.join(pic_path, category)):\n",
    "        shutil.copytree(os.path.join(pic_path, category), os.path.join(f\"/mnt/c/Users/Wayne/Desktop/FCAnet_stimulus/sub-{sub}\", category))"
   ]
  },
  {
   "attachments": {},
   "cell_type": "markdown",
   "metadata": {},
   "source": [
    "### Volume format"
   ]
  },
  {
   "attachments": {},
   "cell_type": "markdown",
   "metadata": {},
   "source": [
    "The single trial responses are also provided in volume format which preserves the spatial structure of the data. The data is broken up into runs and sessions, similar to the raw data files."
   ]
  },
  {
   "cell_type": "code",
   "execution_count": 10,
   "metadata": {},
   "outputs": [
    {
     "name": "stdout",
     "output_type": "stream",
     "text": [
      "betas_vol/sub-01/ses-things01/sub-01_ses-things01_run-01_betas.nii.gz\n",
      "betas_vol/sub-01/ses-things01/sub-01_ses-things01_run-01_conditions.tsv\n",
      "betas_vol/sub-01/ses-things01/sub-01_ses-things01_run-02_betas.nii.gz\n",
      "betas_vol/sub-01/ses-things01/sub-01_ses-things01_run-02_conditions.tsv\n",
      "betas_vol/sub-01/ses-things01/sub-01_ses-things01_run-03_betas.nii.gz\n",
      "betas_vol/sub-01/ses-things01/sub-01_ses-things01_run-03_conditions.tsv\n",
      "betas_vol/sub-01/ses-things01/sub-01_ses-things01_run-04_betas.nii.gz\n",
      "betas_vol/sub-01/ses-things01/sub-01_ses-things01_run-04_conditions.tsv\n",
      "betas_vol/sub-01/ses-things01/sub-01_ses-things01_run-05_betas.nii.gz\n",
      "betas_vol/sub-01/ses-things01/sub-01_ses-things01_run-05_conditions.tsv\n"
     ]
    }
   ],
   "source": [
    "# the directory containing the single trial responses in volume form\n",
    "betas_vol_dir = pjoin(basedir, 'betas_vol', f'sub-{sub}')\n",
    "# show directory content\n",
    "files = glob.glob(pjoin(betas_vol_dir, '*', '*'))\n",
    "files = [f.replace(basedir, '') for f in files]\n",
    "print('\\n'.join(files[:10]))"
   ]
  },
  {
   "attachments": {},
   "cell_type": "markdown",
   "metadata": {},
   "source": [
    "The `...betas.nii.gz` files are 3D+time nifti images where the time dimension corresponds to  trials. The `...conditions.tsv` contain the file names of object images for each trial."
   ]
  },
  {
   "cell_type": "code",
   "execution_count": 11,
   "metadata": {},
   "outputs": [
    {
     "data": {
      "image/png": "[encoded data removed]",
      "text/plain": [
       "<Figure size 730x260 with 5 Axes>"
      ]
     },
     "metadata": {},
     "output_type": "display_data"
    }
   ],
   "source": [
    "# Load responses for example run\n",
    "betas_f = pjoin(betas_vol_dir, 'ses-things01', f'sub-{sub}_ses-things01_run-01_betas.nii.gz')\n",
    "betas_example = load_img(betas_f)\n",
    "\n",
    "# and plot the volume of the 3rd trial\n",
    "betas_example = index_img(betas_example, 2)\n",
    "g = plot_stat_map(\n",
    "    betas_example, bg_img=None, annotate=False, cmap='twilight', vmax=.4,  draw_cross=False, \n",
    ")\n",
    "g.title('Example: Volumetric single trial response (trial# 3)', bgcolor='white', color='black')"
   ]
  },
  {
   "cell_type": "code",
   "execution_count": 12,
   "metadata": {},
   "outputs": [
    {
     "name": "stdout",
     "output_type": "stream",
     "text": [
      "Content of \"...conditions.tsv\"\n"
     ]
    },
    {
     "data": {
      "text/html": [
       "<div>\n",
       "<style scoped>\n",
       "    .dataframe tbody tr th:only-of-type {\n",
       "        vertical-align: middle;\n",
       "    }\n",
       "\n",
       "    .dataframe tbody tr th {\n",
       "        vertical-align: top;\n",
       "    }\n",
       "\n",
       "    .dataframe thead th {\n",
       "        text-align: right;\n",
       "    }\n",
       "</style>\n",
       "<table border=\"1\" class=\"dataframe\">\n",
       "  <thead>\n",
       "    <tr style=\"text-align: right;\">\n",
       "      <th></th>\n",
       "      <th>image_filename</th>\n",
       "    </tr>\n",
       "  </thead>\n",
       "  <tbody>\n",
       "    <tr>\n",
       "      <th>0</th>\n",
       "      <td>dog/dog_12s.jpg</td>\n",
       "    </tr>\n",
       "    <tr>\n",
       "      <th>1</th>\n",
       "      <td>mango/mango_12s.jpg</td>\n",
       "    </tr>\n",
       "    <tr>\n",
       "      <th>2</th>\n",
       "      <td>catch008.jpg</td>\n",
       "    </tr>\n",
       "    <tr>\n",
       "      <th>3</th>\n",
       "      <td>spatula/spatula_12s.jpg</td>\n",
       "    </tr>\n",
       "    <tr>\n",
       "      <th>4</th>\n",
       "      <td>candelabra/candelabra_14s.jpg</td>\n",
       "    </tr>\n",
       "  </tbody>\n",
       "</table>\n",
       "</div>"
      ],
      "text/plain": [
       "                  image_filename\n",
       "0                dog/dog_12s.jpg\n",
       "1            mango/mango_12s.jpg\n",
       "2                   catch008.jpg\n",
       "3        spatula/spatula_12s.jpg\n",
       "4  candelabra/candelabra_14s.jpg"
      ]
     },
     "execution_count": 12,
     "metadata": {},
     "output_type": "execute_result"
    }
   ],
   "source": [
    "# load the trial conditions\n",
    "# Note that the volumetric single trial responses include catch trials\n",
    "conds_tsv = pjoin(betas_vol_dir, 'ses-things01', f'sub-{sub}_ses-things01_run-01_conditions.tsv')\n",
    "conds = pd.read_csv(conds_tsv, sep='\\t').drop(columns='Unnamed: 0')\n",
    "print('Content of \"...conditions.tsv\"')\n",
    "conds.head()"
   ]
  },
  {
   "attachments": {},
   "cell_type": "markdown",
   "metadata": {},
   "source": [
    "## Brain masks"
   ]
  },
  {
   "attachments": {},
   "cell_type": "markdown",
   "metadata": {},
   "source": [
    "The brain masks indicate wether a given voxel is located in the brain or not (`1: brain`, `0: not brain`). They can be used e.g. to create a nifti volume from the results you obtained from the single trial responses."
   ]
  },
  {
   "cell_type": "code",
   "execution_count": 13,
   "metadata": {},
   "outputs": [],
   "source": [
    "# Say you have analyzed the single trial responses in table format have produced these results\n",
    "# These results are an array of n elements, where n is the number of voxels within the brain.\n",
    "results = np.random.randn(responses.shape[0])\n",
    "loinds = voxdata['lLOC'].astype(bool) # pretend we found activity in LOC\n",
    "results[loinds] += 5"
   ]
  },
  {
   "cell_type": "code",
   "execution_count": 14,
   "metadata": {},
   "outputs": [
    {
     "ename": "ValueError",
     "evalue": "File not found: '/mnt/c/Users/Wayne/Desktop/brainmasks/sub-01_space-T1w_brainmask.nii.gz'",
     "output_type": "error",
     "traceback": [
      "\u001b[0;31m---------------------------------------------------------------------------\u001b[0m",
      "\u001b[0;31mValueError\u001b[0m                                Traceback (most recent call last)",
      "Cell \u001b[0;32mIn[14], line 9\u001b[0m\n\u001b[1;32m      6\u001b[0m bmask_f \u001b[39m=\u001b[39m pjoin(bmask_dir, \u001b[39mf\u001b[39m\u001b[39m'\u001b[39m\u001b[39msub-\u001b[39m\u001b[39m{\u001b[39;00msub\u001b[39m}\u001b[39;00m\u001b[39m_space-T1w_brainmask.nii.gz\u001b[39m\u001b[39m'\u001b[39m)\n\u001b[1;32m      8\u001b[0m \u001b[39m# use the brain mask to turn your results array into a 3D image\u001b[39;00m\n\u001b[0;32m----> 9\u001b[0m results_img \u001b[39m=\u001b[39m unmask(results, bmask_f)\n\u001b[1;32m     10\u001b[0m \u001b[39m# plot the image to verify\u001b[39;00m\n\u001b[1;32m     11\u001b[0m g \u001b[39m=\u001b[39m plot_stat_map(results_img, bg_img\u001b[39m=\u001b[39m\u001b[39mNone\u001b[39;00m, cmap\u001b[39m=\u001b[39m\u001b[39m'\u001b[39m\u001b[39mtwilight\u001b[39m\u001b[39m'\u001b[39m, draw_cross\u001b[39m=\u001b[39m\u001b[39mFalse\u001b[39;00m, annotate\u001b[39m=\u001b[39m\u001b[39mFalse\u001b[39;00m)\n",
      "File \u001b[0;32m~/miniconda3/envs/tvbenv/lib/python3.10/site-packages/nilearn/masking.py:963\u001b[0m, in \u001b[0;36munmask\u001b[0;34m(X, mask_img, order)\u001b[0m\n\u001b[1;32m    960\u001b[0m \u001b[39m# The code after this block assumes that X is an ndarray; ensure this\u001b[39;00m\n\u001b[1;32m    961\u001b[0m X \u001b[39m=\u001b[39m np\u001b[39m.\u001b[39masanyarray(X)\n\u001b[0;32m--> 963\u001b[0m mask_img \u001b[39m=\u001b[39m _utils\u001b[39m.\u001b[39;49mcheck_niimg_3d(mask_img)\n\u001b[1;32m    964\u001b[0m mask, affine \u001b[39m=\u001b[39m _load_mask_img(mask_img)\n\u001b[1;32m    966\u001b[0m \u001b[39mif\u001b[39;00m np\u001b[39m.\u001b[39mndim(X) \u001b[39m==\u001b[39m \u001b[39m2\u001b[39m:\n",
      "File \u001b[0;32m~/miniconda3/envs/tvbenv/lib/python3.10/site-packages/nilearn/_utils/niimg_conversions.py:371\u001b[0m, in \u001b[0;36mcheck_niimg_3d\u001b[0;34m(niimg, dtype)\u001b[0m\n\u001b[1;32m    337\u001b[0m \u001b[39mdef\u001b[39;00m \u001b[39mcheck_niimg_3d\u001b[39m(niimg, dtype\u001b[39m=\u001b[39m\u001b[39mNone\u001b[39;00m):\n\u001b[1;32m    338\u001b[0m     \u001b[39m\"\"\"Check that niimg is a proper 3D niimg-like object and load it.\u001b[39;00m\n\u001b[1;32m    339\u001b[0m \n\u001b[1;32m    340\u001b[0m \u001b[39m    Parameters\u001b[39;00m\n\u001b[0;32m   (...)\u001b[0m\n\u001b[1;32m    369\u001b[0m \n\u001b[1;32m    370\u001b[0m \u001b[39m    \"\"\"\u001b[39;00m\n\u001b[0;32m--> 371\u001b[0m     \u001b[39mreturn\u001b[39;00m check_niimg(niimg, ensure_ndim\u001b[39m=\u001b[39;49m\u001b[39m3\u001b[39;49m, dtype\u001b[39m=\u001b[39;49mdtype)\n",
      "File \u001b[0;32m~/miniconda3/envs/tvbenv/lib/python3.10/site-packages/nilearn/_utils/niimg_conversions.py:303\u001b[0m, in \u001b[0;36mcheck_niimg\u001b[0;34m(niimg, ensure_ndim, atleast_4d, dtype, return_iterator, wildcards)\u001b[0m\n\u001b[1;32m    301\u001b[0m         \u001b[39mraise\u001b[39;00m \u001b[39mValueError\u001b[39;00m(message)\n\u001b[1;32m    302\u001b[0m     \u001b[39melse\u001b[39;00m:\n\u001b[0;32m--> 303\u001b[0m         \u001b[39mraise\u001b[39;00m \u001b[39mValueError\u001b[39;00m(\u001b[39mf\u001b[39m\u001b[39m\"\u001b[39m\u001b[39mFile not found: \u001b[39m\u001b[39m'\u001b[39m\u001b[39m{\u001b[39;00mniimg\u001b[39m}\u001b[39;00m\u001b[39m'\u001b[39m\u001b[39m\"\u001b[39m)\n\u001b[1;32m    304\u001b[0m \u001b[39melif\u001b[39;00m \u001b[39mnot\u001b[39;00m os\u001b[39m.\u001b[39mpath\u001b[39m.\u001b[39mexists(niimg):\n\u001b[1;32m    305\u001b[0m     \u001b[39mraise\u001b[39;00m \u001b[39mValueError\u001b[39;00m(\u001b[39mf\u001b[39m\u001b[39m\"\u001b[39m\u001b[39mFile not found: \u001b[39m\u001b[39m'\u001b[39m\u001b[39m{\u001b[39;00mniimg\u001b[39m}\u001b[39;00m\u001b[39m'\u001b[39m\u001b[39m\"\u001b[39m)\n",
      "\u001b[0;31mValueError\u001b[0m: File not found: '/mnt/c/Users/Wayne/Desktop/brainmasks/sub-01_space-T1w_brainmask.nii.gz'"
     ]
    }
   ],
   "source": [
    "# you can easily use nilearn's masking functions to transform them \n",
    "# to an image object and save it as a nifti file\n",
    "\n",
    "# This is the provided brain mask\n",
    "bmask_dir = pjoin(basedir, 'brainmasks')\n",
    "bmask_f = pjoin(bmask_dir, f'sub-{sub}_space-T1w_brainmask.nii.gz')\n",
    "\n",
    "# use the brain mask to turn your results array into a 3D image\n",
    "results_img = unmask(results, bmask_f)\n",
    "# plot the image to verify\n",
    "g = plot_stat_map(results_img, bg_img=None, cmap='twilight', draw_cross=False, annotate=False)\n",
    "# g.add_contours(bmask_f)\n",
    "g.title('Example: Reconstructing volume from array-like data', bgcolor='white', color='black')\n",
    "# and save it as an nifti file\n",
    "results_img.to_filename('results.nii.gz')"
   ]
  },
  {
   "attachments": {},
   "cell_type": "markdown",
   "metadata": {},
   "source": [
    "> 🚨 **Co-registration and volumetric space**\n",
    ">\n",
    "> The THINGS-fMRI data was preprocessed with [fmriprep](https://fmriprep.org/en/stable/), which includes co-registration of all functional images to a high-resolution anatomical MRI image. In other words, all functional data for a given subject (including the brain masks aind regions of interest) was transformed into a common \"space\", meaning that a given voxel always points to the same location in the brain - with some level of imperfection.\n",
    "> Of course, it's possible to analyze the data in a different space (e.g. MNI) by downloading the raw data and preprocessing it according to your needs."
   ]
  },
  {
   "attachments": {},
   "cell_type": "markdown",
   "metadata": {},
   "source": [
    "## Cortical flat maps"
   ]
  },
  {
   "attachments": {},
   "cell_type": "markdown",
   "metadata": {},
   "source": [
    "We provide flat maps for each subject for visualizing results on a flat representation of the cortical surface with `pycortex`. Provided that you saved your results as a nifti file in the same space that the volumetric data was in, you can use the flat maps and transformation matrices we prepared. Before you can get started, check out the [pycortex documentation](https://gallantlab.github.io/pycortex/) for an explanation on how to set up your installation."
   ]
  },
  {
   "cell_type": "code",
   "execution_count": null,
   "metadata": {},
   "outputs": [
    {
     "ename": "ValueError",
     "evalue": "File not found: 'results.nii.gz'",
     "output_type": "error",
     "traceback": [
      "\u001b[0;31m---------------------------------------------------------------------------\u001b[0m",
      "\u001b[0;31mValueError\u001b[0m                                Traceback (most recent call last)",
      "Cell \u001b[0;32mIn[15], line 2\u001b[0m\n\u001b[1;32m      1\u001b[0m \u001b[39m# load the results we prepared above as a volume object in pycortex\u001b[39;00m\n\u001b[0;32m----> 2\u001b[0m results_data \u001b[39m=\u001b[39m np\u001b[39m.\u001b[39mswapaxes(load_img(\u001b[39m'\u001b[39;49m\u001b[39mresults.nii.gz\u001b[39;49m\u001b[39m'\u001b[39;49m)\u001b[39m.\u001b[39mget_fdata(), \u001b[39m0\u001b[39m, \u001b[39m-\u001b[39m\u001b[39m1\u001b[39m)\n\u001b[1;32m      3\u001b[0m vol_data \u001b[39m=\u001b[39m cortex\u001b[39m.\u001b[39mVolume(results_data, \u001b[39m'\u001b[39m\u001b[39mS1\u001b[39m\u001b[39m'\u001b[39m, \u001b[39m'\u001b[39m\u001b[39malign_auto\u001b[39m\u001b[39m'\u001b[39m, cmap\u001b[39m=\u001b[39m\u001b[39m'\u001b[39m\u001b[39mtwilight\u001b[39m\u001b[39m'\u001b[39m, vmin\u001b[39m=\u001b[39m\u001b[39m-\u001b[39m\u001b[39m6\u001b[39m, vmax\u001b[39m=\u001b[39m\u001b[39m6\u001b[39m)\n\u001b[1;32m      4\u001b[0m \u001b[39m# plot with pycortex\u001b[39;00m\n",
      "File \u001b[0;32m~/miniconda3/envs/tvbenv/lib/python3.10/site-packages/nilearn/image/image.py:1333\u001b[0m, in \u001b[0;36mload_img\u001b[0;34m(img, wildcards, dtype)\u001b[0m\n\u001b[1;32m   1295\u001b[0m \u001b[39mdef\u001b[39;00m \u001b[39mload_img\u001b[39m(img, wildcards\u001b[39m=\u001b[39m\u001b[39mTrue\u001b[39;00m, dtype\u001b[39m=\u001b[39m\u001b[39mNone\u001b[39;00m):\n\u001b[1;32m   1296\u001b[0m     \u001b[39m\"\"\"Load a Niimg-like object from filenames or list of filenames.\u001b[39;00m\n\u001b[1;32m   1297\u001b[0m \n\u001b[1;32m   1298\u001b[0m \u001b[39m    .. versionadded:: 0.2.5\u001b[39;00m\n\u001b[0;32m   (...)\u001b[0m\n\u001b[1;32m   1331\u001b[0m \n\u001b[1;32m   1332\u001b[0m \u001b[39m    \"\"\"\u001b[39;00m\n\u001b[0;32m-> 1333\u001b[0m     \u001b[39mreturn\u001b[39;00m check_niimg(img, wildcards\u001b[39m=\u001b[39;49mwildcards, dtype\u001b[39m=\u001b[39;49mdtype)\n",
      "File \u001b[0;32m~/miniconda3/envs/tvbenv/lib/python3.10/site-packages/nilearn/_utils/niimg_conversions.py:303\u001b[0m, in \u001b[0;36mcheck_niimg\u001b[0;34m(niimg, ensure_ndim, atleast_4d, dtype, return_iterator, wildcards)\u001b[0m\n\u001b[1;32m    301\u001b[0m         \u001b[39mraise\u001b[39;00m \u001b[39mValueError\u001b[39;00m(message)\n\u001b[1;32m    302\u001b[0m     \u001b[39melse\u001b[39;00m:\n\u001b[0;32m--> 303\u001b[0m         \u001b[39mraise\u001b[39;00m \u001b[39mValueError\u001b[39;00m(\u001b[39mf\u001b[39m\u001b[39m\"\u001b[39m\u001b[39mFile not found: \u001b[39m\u001b[39m'\u001b[39m\u001b[39m{\u001b[39;00mniimg\u001b[39m}\u001b[39;00m\u001b[39m'\u001b[39m\u001b[39m\"\u001b[39m)\n\u001b[1;32m    304\u001b[0m \u001b[39melif\u001b[39;00m \u001b[39mnot\u001b[39;00m os\u001b[39m.\u001b[39mpath\u001b[39m.\u001b[39mexists(niimg):\n\u001b[1;32m    305\u001b[0m     \u001b[39mraise\u001b[39;00m \u001b[39mValueError\u001b[39;00m(\u001b[39mf\u001b[39m\u001b[39m\"\u001b[39m\u001b[39mFile not found: \u001b[39m\u001b[39m'\u001b[39m\u001b[39m{\u001b[39;00mniimg\u001b[39m}\u001b[39;00m\u001b[39m'\u001b[39m\u001b[39m\"\u001b[39m)\n",
      "\u001b[0;31mValueError\u001b[0m: File not found: 'results.nii.gz'"
     ]
    }
   ],
   "source": [
    "# load the results we prepared above as a volume object in pycortex\n",
    "results_data = np.swapaxes(load_img('results.nii.gz').get_fdata(), 0, -1)\n",
    "vol_data = cortex.Volume(results_data, 'S1', 'align_auto', cmap='twilight', vmin=-6, vmax=6)\n",
    "# plot with pycortex\n",
    "fig = plt.figure(figsize=(8,4))\n",
    "cortex.quickshow(\n",
    "    vol_data, pixelwise=True, nanmean=True, colorbar_location='left', with_rois=False, fig=fig,\n",
    ")\n",
    "plt.title(f'Example: Visualizing results on flat maps')\n",
    "plt.show()"
   ]
  }
 ],
 "metadata": {
  "kernelspec": {
   "display_name": "Python 3.9.2 ('pycortex_env')",
   "language": "python",
   "name": "python3"
  },
  "language_info": {
   "codemirror_mode": {
    "name": "ipython",
    "version": 3
   },
   "file_extension": ".py",
   "mimetype": "text/x-python",
   "name": "python",
   "nbconvert_exporter": "python",
   "pygments_lexer": "ipython3",
   "version": "3.10.9"
  },
  "vscode": {
   "interpreter": {
    "hash": "0353db5c40e4acea9704ff3791d606e9ce74d1fd9ef57063d56e39bfb4a5910f"
   }
  }
 },
 "nbformat": 4,
 "nbformat_minor": 4
}
