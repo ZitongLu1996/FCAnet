{
 "cells": [
  {
   "cell_type": "code",
   "execution_count": null,
   "metadata": {},
   "outputs": [],
   "source": [
    "import pandas as pd\n",
    "import numpy as np\n",
    "from os.path import join as pjoin\n",
    "import h5py\n",
    "import matplotlib.pyplot as plt"
   ]
  },
  {
   "cell_type": "markdown",
   "metadata": {},
   "source": [
    "### Read the imgs"
   ]
  },
  {
   "cell_type": "code",
   "execution_count": null,
   "metadata": {},
   "outputs": [],
   "source": [
    "basedir = '/Users/yilewang/Desktop/nsd'\n",
    "stimuli_dir = pjoin(basedir, 'nsddata_stimuli')\n",
    "stimuli_file = pjoin(stimuli_dir, 'nsd_stimuli.hdf5')\n",
    "\n",
    "# read hdf5 file\n",
    "f = h5py.File(stimuli_file, 'r')\n",
    "# read data\n",
    "data = f[list(f.keys())[0]]\n",
    "\n",
    "for i in range(np.shape(data)[0]):\n",
    "    single_img = data[i, :, :, :]\n",
    "    fig = plt.figure(figsize=(4.25, 4.25), dpi=100)\n",
    "    # hide axis\n",
    "    # Remove white space\n",
    "    plt.subplots_adjust(left=0, right=1, top=1, bottom=0)\n",
    "\n",
    "    # Remove the ticks and their labels\n",
    "    plt.xticks([]), plt.yticks([])\n",
    "\n",
    "    # Remove the axes\n",
    "    [axi.set_axis_off() for axi in plt.gcf().axes]\n",
    "\n",
    "    plt.imshow(single_img)\n",
    "    # save image with index as name\n",
    "    plt.savefig(pjoin(stimuli_dir, 'pics', str(i)+'.png'), bbox_inches=\"tight\", pad_inches=0)\n",
    "    plt.close()"
   ]
  }
 ],
 "metadata": {
  "kernelspec": {
   "display_name": "tvbenv",
   "language": "python",
   "name": "python3"
  },
  "language_info": {
   "codemirror_mode": {
    "name": "ipython",
    "version": 3
   },
   "file_extension": ".py",
   "mimetype": "text/x-python",
   "name": "python",
   "nbconvert_exporter": "python",
   "pygments_lexer": "ipython3",
   "version": "3.11.4"
  },
  "orig_nbformat": 4
 },
 "nbformat": 4,
 "nbformat_minor": 2
}
