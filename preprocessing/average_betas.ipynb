{
 "cells": [
  {
   "cell_type": "code",
   "execution_count": 3,
   "metadata": {},
   "outputs": [],
   "source": [
    "import pandas as pd\n",
    "import numpy as np\n",
    "from os.path import join as pjoin"
   ]
  },
  {
   "cell_type": "code",
   "execution_count": 30,
   "metadata": {},
   "outputs": [
    {
     "ename": "KeyboardInterrupt",
     "evalue": "",
     "output_type": "error",
     "traceback": [
      "\u001b[0;31m---------------------------------------------------------------------------\u001b[0m",
      "\u001b[0;31mKeyboardInterrupt\u001b[0m                         Traceback (most recent call last)",
      "Cell \u001b[0;32mIn[30], line 5\u001b[0m\n\u001b[1;32m      3\u001b[0m basedir \u001b[39m=\u001b[39m pjoin(\u001b[39m'\u001b[39m\u001b[39m/mnt/c/Users/Wayne/Desktop/nsd/\u001b[39m\u001b[39m'\u001b[39m, sub)\n\u001b[1;32m      4\u001b[0m train_file \u001b[39m=\u001b[39m pjoin(basedir, \u001b[39m'\u001b[39m\u001b[39mtrain_betas.csv\u001b[39m\u001b[39m'\u001b[39m)\n\u001b[0;32m----> 5\u001b[0m df \u001b[39m=\u001b[39m pd\u001b[39m.\u001b[39;49mread_csv(train_file)\n\u001b[1;32m      8\u001b[0m test_file \u001b[39m=\u001b[39m pjoin(basedir, \u001b[39m'\u001b[39m\u001b[39mtest_betas.csv\u001b[39m\u001b[39m'\u001b[39m)\n\u001b[1;32m      9\u001b[0m df_test \u001b[39m=\u001b[39m pd\u001b[39m.\u001b[39mread_csv(test_file)\n",
      "File \u001b[0;32m~/miniconda3/envs/tvbenv/lib/python3.10/site-packages/pandas/util/_decorators.py:211\u001b[0m, in \u001b[0;36mdeprecate_kwarg.<locals>._deprecate_kwarg.<locals>.wrapper\u001b[0;34m(*args, **kwargs)\u001b[0m\n\u001b[1;32m    209\u001b[0m     \u001b[39melse\u001b[39;00m:\n\u001b[1;32m    210\u001b[0m         kwargs[new_arg_name] \u001b[39m=\u001b[39m new_arg_value\n\u001b[0;32m--> 211\u001b[0m \u001b[39mreturn\u001b[39;00m func(\u001b[39m*\u001b[39;49margs, \u001b[39m*\u001b[39;49m\u001b[39m*\u001b[39;49mkwargs)\n",
      "File \u001b[0;32m~/miniconda3/envs/tvbenv/lib/python3.10/site-packages/pandas/util/_decorators.py:331\u001b[0m, in \u001b[0;36mdeprecate_nonkeyword_arguments.<locals>.decorate.<locals>.wrapper\u001b[0;34m(*args, **kwargs)\u001b[0m\n\u001b[1;32m    325\u001b[0m \u001b[39mif\u001b[39;00m \u001b[39mlen\u001b[39m(args) \u001b[39m>\u001b[39m num_allow_args:\n\u001b[1;32m    326\u001b[0m     warnings\u001b[39m.\u001b[39mwarn(\n\u001b[1;32m    327\u001b[0m         msg\u001b[39m.\u001b[39mformat(arguments\u001b[39m=\u001b[39m_format_argument_list(allow_args)),\n\u001b[1;32m    328\u001b[0m         \u001b[39mFutureWarning\u001b[39;00m,\n\u001b[1;32m    329\u001b[0m         stacklevel\u001b[39m=\u001b[39mfind_stack_level(),\n\u001b[1;32m    330\u001b[0m     )\n\u001b[0;32m--> 331\u001b[0m \u001b[39mreturn\u001b[39;00m func(\u001b[39m*\u001b[39;49margs, \u001b[39m*\u001b[39;49m\u001b[39m*\u001b[39;49mkwargs)\n",
      "File \u001b[0;32m~/miniconda3/envs/tvbenv/lib/python3.10/site-packages/pandas/io/parsers/readers.py:950\u001b[0m, in \u001b[0;36mread_csv\u001b[0;34m(filepath_or_buffer, sep, delimiter, header, names, index_col, usecols, squeeze, prefix, mangle_dupe_cols, dtype, engine, converters, true_values, false_values, skipinitialspace, skiprows, skipfooter, nrows, na_values, keep_default_na, na_filter, verbose, skip_blank_lines, parse_dates, infer_datetime_format, keep_date_col, date_parser, dayfirst, cache_dates, iterator, chunksize, compression, thousands, decimal, lineterminator, quotechar, quoting, doublequote, escapechar, comment, encoding, encoding_errors, dialect, error_bad_lines, warn_bad_lines, on_bad_lines, delim_whitespace, low_memory, memory_map, float_precision, storage_options)\u001b[0m\n\u001b[1;32m    935\u001b[0m kwds_defaults \u001b[39m=\u001b[39m _refine_defaults_read(\n\u001b[1;32m    936\u001b[0m     dialect,\n\u001b[1;32m    937\u001b[0m     delimiter,\n\u001b[0;32m   (...)\u001b[0m\n\u001b[1;32m    946\u001b[0m     defaults\u001b[39m=\u001b[39m{\u001b[39m\"\u001b[39m\u001b[39mdelimiter\u001b[39m\u001b[39m\"\u001b[39m: \u001b[39m\"\u001b[39m\u001b[39m,\u001b[39m\u001b[39m\"\u001b[39m},\n\u001b[1;32m    947\u001b[0m )\n\u001b[1;32m    948\u001b[0m kwds\u001b[39m.\u001b[39mupdate(kwds_defaults)\n\u001b[0;32m--> 950\u001b[0m \u001b[39mreturn\u001b[39;00m _read(filepath_or_buffer, kwds)\n",
      "File \u001b[0;32m~/miniconda3/envs/tvbenv/lib/python3.10/site-packages/pandas/io/parsers/readers.py:611\u001b[0m, in \u001b[0;36m_read\u001b[0;34m(filepath_or_buffer, kwds)\u001b[0m\n\u001b[1;32m    608\u001b[0m     \u001b[39mreturn\u001b[39;00m parser\n\u001b[1;32m    610\u001b[0m \u001b[39mwith\u001b[39;00m parser:\n\u001b[0;32m--> 611\u001b[0m     \u001b[39mreturn\u001b[39;00m parser\u001b[39m.\u001b[39;49mread(nrows)\n",
      "File \u001b[0;32m~/miniconda3/envs/tvbenv/lib/python3.10/site-packages/pandas/io/parsers/readers.py:1778\u001b[0m, in \u001b[0;36mTextFileReader.read\u001b[0;34m(self, nrows)\u001b[0m\n\u001b[1;32m   1771\u001b[0m nrows \u001b[39m=\u001b[39m validate_integer(\u001b[39m\"\u001b[39m\u001b[39mnrows\u001b[39m\u001b[39m\"\u001b[39m, nrows)\n\u001b[1;32m   1772\u001b[0m \u001b[39mtry\u001b[39;00m:\n\u001b[1;32m   1773\u001b[0m     \u001b[39m# error: \"ParserBase\" has no attribute \"read\"\u001b[39;00m\n\u001b[1;32m   1774\u001b[0m     (\n\u001b[1;32m   1775\u001b[0m         index,\n\u001b[1;32m   1776\u001b[0m         columns,\n\u001b[1;32m   1777\u001b[0m         col_dict,\n\u001b[0;32m-> 1778\u001b[0m     ) \u001b[39m=\u001b[39m \u001b[39mself\u001b[39;49m\u001b[39m.\u001b[39;49m_engine\u001b[39m.\u001b[39;49mread(  \u001b[39m# type: ignore[attr-defined]\u001b[39;49;00m\n\u001b[1;32m   1779\u001b[0m         nrows\n\u001b[1;32m   1780\u001b[0m     )\n\u001b[1;32m   1781\u001b[0m \u001b[39mexcept\u001b[39;00m \u001b[39mException\u001b[39;00m:\n\u001b[1;32m   1782\u001b[0m     \u001b[39mself\u001b[39m\u001b[39m.\u001b[39mclose()\n",
      "File \u001b[0;32m~/miniconda3/envs/tvbenv/lib/python3.10/site-packages/pandas/io/parsers/c_parser_wrapper.py:230\u001b[0m, in \u001b[0;36mCParserWrapper.read\u001b[0;34m(self, nrows)\u001b[0m\n\u001b[1;32m    228\u001b[0m \u001b[39mtry\u001b[39;00m:\n\u001b[1;32m    229\u001b[0m     \u001b[39mif\u001b[39;00m \u001b[39mself\u001b[39m\u001b[39m.\u001b[39mlow_memory:\n\u001b[0;32m--> 230\u001b[0m         chunks \u001b[39m=\u001b[39m \u001b[39mself\u001b[39;49m\u001b[39m.\u001b[39;49m_reader\u001b[39m.\u001b[39;49mread_low_memory(nrows)\n\u001b[1;32m    231\u001b[0m         \u001b[39m# destructive to chunks\u001b[39;00m\n\u001b[1;32m    232\u001b[0m         data \u001b[39m=\u001b[39m _concatenate_chunks(chunks)\n",
      "File \u001b[0;32m~/miniconda3/envs/tvbenv/lib/python3.10/site-packages/pandas/_libs/parsers.pyx:808\u001b[0m, in \u001b[0;36mpandas._libs.parsers.TextReader.read_low_memory\u001b[0;34m()\u001b[0m\n",
      "File \u001b[0;32m~/miniconda3/envs/tvbenv/lib/python3.10/site-packages/pandas/_libs/parsers.pyx:890\u001b[0m, in \u001b[0;36mpandas._libs.parsers.TextReader._read_rows\u001b[0;34m()\u001b[0m\n",
      "File \u001b[0;32m~/miniconda3/envs/tvbenv/lib/python3.10/site-packages/pandas/_libs/parsers.pyx:1037\u001b[0m, in \u001b[0;36mpandas._libs.parsers.TextReader._convert_column_data\u001b[0;34m()\u001b[0m\n",
      "File \u001b[0;32m~/miniconda3/envs/tvbenv/lib/python3.10/site-packages/pandas/_libs/parsers.pyx:1083\u001b[0m, in \u001b[0;36mpandas._libs.parsers.TextReader._convert_tokens\u001b[0;34m()\u001b[0m\n",
      "File \u001b[0;32m~/miniconda3/envs/tvbenv/lib/python3.10/site-packages/pandas/_libs/parsers.pyx:1158\u001b[0m, in \u001b[0;36mpandas._libs.parsers.TextReader._convert_with_dtype\u001b[0;34m()\u001b[0m\n",
      "File \u001b[0;32m~/miniconda3/envs/tvbenv/lib/python3.10/site-packages/pandas/core/dtypes/common.py:1433\u001b[0m, in \u001b[0;36mis_extension_array_dtype\u001b[0;34m(arr_or_dtype)\u001b[0m\n\u001b[1;32m   1424\u001b[0m     \u001b[39m# Note: if other EA dtypes are ever held in HybridBlock, exclude those\u001b[39;00m\n\u001b[1;32m   1425\u001b[0m     \u001b[39m#  here too.\u001b[39;00m\n\u001b[1;32m   1426\u001b[0m     \u001b[39m# NB: need to check DatetimeTZDtype and not is_datetime64tz_dtype\u001b[39;00m\n\u001b[1;32m   1427\u001b[0m     \u001b[39m#  to exclude ArrowTimestampUSDtype\u001b[39;00m\n\u001b[1;32m   1428\u001b[0m     \u001b[39mreturn\u001b[39;00m \u001b[39misinstance\u001b[39m(dtype, ExtensionDtype) \u001b[39mand\u001b[39;00m \u001b[39mnot\u001b[39;00m \u001b[39misinstance\u001b[39m(\n\u001b[1;32m   1429\u001b[0m         dtype, (DatetimeTZDtype, PeriodDtype)\n\u001b[1;32m   1430\u001b[0m     )\n\u001b[0;32m-> 1433\u001b[0m \u001b[39mdef\u001b[39;00m \u001b[39mis_extension_array_dtype\u001b[39m(arr_or_dtype) \u001b[39m-\u001b[39m\u001b[39m>\u001b[39m \u001b[39mbool\u001b[39m:\n\u001b[1;32m   1434\u001b[0m     \u001b[39m\"\"\"\u001b[39;00m\n\u001b[1;32m   1435\u001b[0m \u001b[39m    Check if an object is a pandas extension array type.\u001b[39;00m\n\u001b[1;32m   1436\u001b[0m \n\u001b[0;32m   (...)\u001b[0m\n\u001b[1;32m   1476\u001b[0m \u001b[39m    False\u001b[39;00m\n\u001b[1;32m   1477\u001b[0m \u001b[39m    \"\"\"\u001b[39;00m\n\u001b[1;32m   1478\u001b[0m     dtype \u001b[39m=\u001b[39m \u001b[39mgetattr\u001b[39m(arr_or_dtype, \u001b[39m\"\u001b[39m\u001b[39mdtype\u001b[39m\u001b[39m\"\u001b[39m, arr_or_dtype)\n",
      "\u001b[0;31mKeyboardInterrupt\u001b[0m: "
     ]
    }
   ],
   "source": [
    "# read csv file\n",
    "sub = 'sub_01'\n",
    "basedir = pjoin('/mnt/c/Users/Wayne/Desktop/nsd/', sub)\n",
    "train_file = pjoin(basedir, 'train_betas.csv')\n",
    "df = pd.read_csv(train_file)\n",
    "\n",
    "\n",
    "test_file = pjoin(basedir, 'test_betas.csv')\n",
    "df_test = pd.read_csv(test_file)"
   ]
  },
  {
   "cell_type": "code",
   "execution_count": 17,
   "metadata": {},
   "outputs": [
    {
     "name": "stdout",
     "output_type": "stream",
     "text": [
      "(5568, 2772)\n"
     ]
    }
   ],
   "source": [
    "print(df_test.shape)"
   ]
  },
  {
   "cell_type": "code",
   "execution_count": 33,
   "metadata": {},
   "outputs": [
    {
     "name": "stdout",
     "output_type": "stream",
     "text": [
      "(8859,)\n",
      "Empty DataFrame\n",
      "Columns: []\n",
      "Index: []\n"
     ]
    }
   ],
   "source": [
    "def get_info_before_dot(string):\n",
    "    return string.split('.')[0]\n",
    "\n",
    "pd_train_avg = pd.DataFrame()\n",
    "pd_test_avg = pd.DataFrame()\n",
    "\n",
    "# for col in pd_train.columns:\n",
    "#     key1 = f\"{col}.1\"\n",
    "#     key2 = f\"{col}.2\"\n",
    "#     # combine pd_train[col], pd_train[key1], pd_train[key2] together and get the average\n",
    "#     try:\n",
    "#         pd_train_avg = pd.concat([pd_train_avg, pd_train[[col, key1, key2]].mean(axis=1)], axis=1)\n",
    "#     except:\n",
    "#         pd_train_avg = pd.concat([pd_train_avg, pd_train[col], key1], axis=1)\n",
    "\n",
    "df_train_columns_unique = np.unique([get_info_before_dot(i) for i in df.columns[1:-1]])\n",
    "print(df_train_columns_unique.shape)\n",
    "\n",
    "for col in df_train_columns_unique:\n",
    "    key1 = f\"{col}.1\"\n",
    "    key2 = f\"{col}.2\"\n",
    "    # combine pd_test[col], pd_test[key1], pd_test[key2] together and get the average\n",
    "    if key2 in df.columns:\n",
    "        single = pd.DataFrame(df[[col, key1, key2]].mean(axis=1), columns=[col])\n",
    "\n",
    "        pd_train_avg = pd.concat([pd_train_avg, single], axis=1)\n",
    "    elif key1 in df.columns and key2 not in df.columns:\n",
    "        single = pd.DataFrame(df[[col, key1]].mean(axis=1), columns=[col])\n",
    "\n",
    "        pd_train_avg = pd.concat([pd_train_avg, single], axis=1)\n",
    "    elif key1 not in df_test.columns and key2 not in df.columns:\n",
    "\n",
    "        pd_train_avg = pd.concat([pd_train_avg, df[col]], axis=1)\n",
    "\n",
    "print(pd_test_avg)"
   ]
  },
  {
   "cell_type": "code",
   "execution_count": 34,
   "metadata": {},
   "outputs": [],
   "source": [
    "pd_train_avg = pd.concat([pd_train_avg, df['label']], axis=1)\n",
    "pd_train_avg.to_csv(pjoin(basedir, 'train_avg.csv'), index=False)"
   ]
  },
  {
   "cell_type": "code",
   "execution_count": 35,
   "metadata": {},
   "outputs": [
    {
     "name": "stdout",
     "output_type": "stream",
     "text": [
      "Numbers repeated 3 times: [46003, 44981, 32626, 53053, 4931, 6432, 36577, 57047, 7660, 42172, 5603, 21602, 62303, 5302, 15493, 25288, 6559, 16724, 40576, 45596, 9918, 26599, 60306, 4787, 19182, 72081, 36068, 71754, 58145, 11943, 38818, 66490, 71233, 3627, 14529, 56043, 34239, 14122, 26352, 11160, 29838, 48682, 14595, 24481, 36975, 36911, 16703, 61749, 8007, 13139, 25455, 9049, 46000, 42852, 22516, 40841, 9028, 53892, 61874, 53859, 22783, 30082, 26436, 51078, 68843, 7337, 3158, 26459, 12797, 26128, 7860, 14794, 8110, 38311, 16345, 64868, 18797, 67830, 41483, 15940, 21109, 8934, 7208, 62366, 48423, 11838, 7841, 11933, 11618, 60506, 57839, 42300, 9435, 62961, 26164, 46807, 47100, 37225, 19200, 21990, 44845, 32772, 65822, 33522, 27569, 28025, 32308, 11334, 12686, 3172, 12923, 38495, 50812, 25589, 49077, 69131, 62016, 22968, 47071, 8808, 21280, 56315, 40925, 21554, 40424, 31748, 28596, 11522, 55858, 9148, 57436, 67205, 25269, 54699, 28752, 16918, 56724, 25285, 22887, 22880, 12309, 25112, 22496, 31802, 25251, 68340, 21951, 27327, 30857, 44721, 22588, 51746, 65011, 67803, 2951, 13614, 22264, 51522, 7945, 66005, 23716, 17550, 26721, 3683, 28690, 34069, 34127, 40236, 46862, 59080, 72313, 69215, 72720, 34187, 59047, 46161, 30633, 47409, 65655, 59586, 10108, 11845, 42008, 47688, 10508, 49980, 23037, 7655, 28160, 6522, 69008, 52528, 44108, 56868, 36979, 3450, 62210, 24203, 29664, 38830, 16467, 19934, 47322, 38642, 47291, 45214, 50027, 29887, 45982, 19437, 5543, 39370, 43158, 50735, 46151, 31965, 16824, 44098, 33544, 61810, 26308, 42127, 62562, 51172, 56455, 53729, 23730, 20634, 10472, 28287, 41057, 61798, 11567, 54258, 18506, 43429, 11690, 50115, 53728, 10065, 53774, 41117, 3078, 30955, 15820, 28097, 59632, 9723, 72016, 44737, 48261, 27276, 34875, 37802, 37222, 31029, 30396, 28488, 3952, 31124, 21254, 62229, 55650, 63082, 71242, 42564, 51052, 34851, 43985, 44706, 28525, 4250, 34830, 38854, 8263, 51186, 10601, 38979, 64097, 38061, 36683, 36732, 66217, 10245, 50654, 52597, 43446, 41098, 18435, 38795, 70076, 45633, 67364, 56270, 36946, 49235, 61678, 15026, 55679, 72210, 58405, 15507, 32054, 30431, 24265, 28069, 20821, 24318, 18544, 4836, 48158, 36477, 28419, 70233, 4437, 46381, 49945, 24518, 61739, 59040, 55006, 27436, 26293, 31234, 3050, 40847, 20055, 29920, 66331, 34090, 53158, 21193, 3848, 69786, 33290, 60187, 60846, 20739, 66581, 25320, 8395, 28746, 72606, 40771, 66279, 56155, 65268, 72258, 3490, 21527, 52653, 3914, 24215, 43620, 45844, 30923, 38023, 46461, 11797, 18691, 20443, 54079, 39299, 66837, 26781, 66977, 43951, 59420, 45838, 41567, 51984, 52395, 55409, 46643, 26120, 16064, 65800, 62007, 70428, 39998, 13231, 3182, 50756, 39403, 36760, 42225, 28350, 60095, 31937, 52555, 54362, 53153, 57651, 70096, 67296, 13721, 71230, 3147, 3857, 19201, 5715, 57554, 41138, 65377, 55527, 52071, 17777, 44370, 6445, 47294, 24788, 22144, 38026, 20081, 35799, 16253, 55969, 13313, 59596, 59195, 48680, 38487, 69241, 31783, 35744, 40722, 31838, 14821, 36570, 67743, 6802, 4893, 17375, 27879, 33246, 39842, 35753, 10908, 60835, 69615, 51063, 65254, 7367, 57061, 24847, 49970, 55670, 27831, 30408, 41928, 49956, 22531, 8844, 14899, 42215, 25907, 11953, 27973, 13315, 55970, 20651, 64296, 17239, 49467, 32911, 61514, 44053, 35987, 56851, 52303, 43821, 4691, 50171, 7040, 56912, 39290, 38247, 28899, 4059, 26896, 42913, 48623, 31660, 62276, 17596, 29382, 45946, 15004, 60554, 56067, 65446, 10047, 66774, 71895, 30888, 22524, 4424, 61178, 37060, 68859, 42782, 68169, 24641, 35791, 71411, 43690, 18269, 25582, 17486, 9979, 40980, 64484, 17464, 7419, 48509, 72949, 5460, 56682, 70506, 28320, 14932, 49732, 8388, 32233, 59285, 62480, 43747, 5205, 21219, 6714, 37737, 53271, 16842, 43819, 3387, 31050, 3165, 72171, 69855, 13847, 46322, 22795, 20207, 53156, 26991, 65921, 21195, 22388, 33172, 38298, 43160, 23872, 53882, 60252, 8510, 53571, 61511, 3810, 17049, 40936, 54744, 27288, 59024, 14809, 37495, 25372, 42474, 55406, 48375, 45751, 32892, 49481, 52329, 68742, 24740, 47599, 5035, 19075, 68279, 71929, 68419, 6490, 7008, 32717, 69503, 25092, 42643, 61973, 11636, 23493, 63826, 17451, 24650, 65770, 51929, 35130, 68815, 12488, 3688, 10007, 13654, 7121, 71451, 46524, 65149, 46463, 6515, 9805, 44145, 52932, 10106, 38359, 7955, 64005, 68472, 48531, 22958, 70039, 14444, 5584, 63932, 64499, 64622, 4870, 14166, 11726, 15365, 69840, 27243, 43676, 43165, 21198, 22994, 68898, 66947, 30673, 6223, 67046, 20266, 4668, 14180, 43108, 6200, 15129, 58165, 59700, 60726, 53371, 69919, 69832, 34846, 25571, 25319, 62684, 42981, 30564, 44972, 43853, 44413, 25703, 24561, 65944, 25747, 34604, 46373, 41654, 8647, 64616, 40910, 22586, 17935, 56419, 41711, 57907, 24639, 34419, 55164, 46836, 61134, 32773, 14611, 41815, 33907, 65640, 28756, 26910, 28190, 36624, 62545, 29712, 22139, 59995, 45130, 24741, 65188, 42947, 4052, 67238, 25742, 11488, 36259, 48619, 40549, 56785, 47034, 22773, 4157, 24531, 51149, 46037, 63747, 4130, 70194, 63183, 3843, 25882, 3730, 3435, 8226, 39510, 56949, 51789, 25579, 7949, 55108, 70361, 2991, 26972, 72511, 22810, 23242, 42698, 65873, 5339, 39059, 63945, 64881, 16617, 42167, 49623, 29022, 50883, 66422, 46275, 22846, 41163, 60868, 70765, 66465, 20703, 43225, 14111, 45357, 5107, 59818, 52893, 66343, 48803, 51844, 46662, 69814, 44325, 54914, 65070, 23994, 65233, 68312, 8632, 61123, 36630, 65687, 43289, 8275, 37928, 59421, 48380, 28789, 63450, 28304, 70948, 23877, 57444, 43157, 40921, 44340, 23884, 66644, 16656, 16866, 5575, 28964, 45747, 38279, 30675, 71026, 44730, 52376, 20065, 63782, 5286, 63923, 12066, 31447, 58669, 41624, 26244, 42239, 12215, 66215, 60457, 46102, 41575, 69026, 47657, 35095, 6525, 69031, 54148, 52599, 5503, 70586, 10587, 69443, 56671, 70369, 62749, 29011, 16869, 56783, 60520, 16422, 49153, 33753, 56696, 6133, 16636, 29681, 19673, 21319]\n",
      "839\n"
     ]
    }
   ],
   "source": [
    "def calculate_repeat_time(numbers_list, repeat_threshold):\n",
    "    num_count = {}  # Dictionary to store number counts\n",
    "    \n",
    "    # Count the occurrences of each number\n",
    "    for num in numbers_list:\n",
    "        if num in num_count:\n",
    "            num_count[num] += 1\n",
    "        else:\n",
    "            num_count[num] = 1\n",
    "    \n",
    "    # Filter numbers based on repeat_threshold\n",
    "    repeated_numbers = [num for num, count in num_count.items() if count == repeat_threshold]\n",
    "    \n",
    "    return repeated_numbers\n",
    "\n",
    "numbers_list = [int(get_info_before_dot(num)) for num in df_test.columns[1:-1]]\n",
    "repeat_threshold = 3\n",
    "\n",
    "repeated_numbers = calculate_repeat_time(numbers_list, repeat_threshold)\n",
    "print(f\"Numbers repeated {repeat_threshold} times: {repeated_numbers}\")\n",
    "print(len(repeated_numbers))\n",
    "\n"
   ]
  }
 ],
 "metadata": {
  "kernelspec": {
   "display_name": "tvbenv",
   "language": "python",
   "name": "python3"
  },
  "language_info": {
   "codemirror_mode": {
    "name": "ipython",
    "version": 3
   },
   "file_extension": ".py",
   "mimetype": "text/x-python",
   "name": "python",
   "nbconvert_exporter": "python",
   "pygments_lexer": "ipython3",
   "version": "3.10.9"
  },
  "orig_nbformat": 4
 },
 "nbformat": 4,
 "nbformat_minor": 2
}
